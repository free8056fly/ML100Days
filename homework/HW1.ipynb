{
 "cells": [
  {
   "cell_type": "code",
   "execution_count": 15,
   "metadata": {},
   "outputs": [
    {
     "name": "stdout",
     "output_type": "stream",
     "text": [
      "Q1.[簡答題] 請問下列兩種將 Array 轉換成 List 的方式有何不同？\n",
      "A1.list(a) 將每個元素\n",
      "[8, 7, 5, 6, 9, 3]\n",
      "[8, 7, 5, 6, 9, 3]\n",
      "[array([9, 3, 0, 2]), array([6, 4, 4, 3]), array([1, 1, 8, 4])]\n",
      "[[9, 3, 0, 2], [6, 4, 4, 3], [1, 1, 8, 4]]\n",
      "[array([[2, 3],\n",
      "       [8, 2],\n",
      "       [5, 4]]), array([[3, 6],\n",
      "       [9, 6],\n",
      "       [5, 8]])]\n",
      "[[[2, 3], [8, 2], [5, 4]], [[3, 6], [9, 6], [5, 8]]]\n"
     ]
    }
   ],
   "source": [
    "print('Q1.[簡答題] 請問下列兩種將 Array 轉換成 List 的方式有何不同？')\n",
    "print('A1.list(a)是逐列轉換成矩陣三個不同矩陣並列，tolist是將三列變成單一矩陣')\n",
    "a = np.random.randint(10, size=6) \n",
    "b = np.random.randint(10, size=(3,4)) \n",
    "c = np.random.randint(10, size=(2,3,2)) \n",
    "print(list(a))\n",
    "print(a.tolist())\n",
    "print(list(b))\n",
    "print(b.tolist())\n",
    "print(list(c))\n",
    "print(c.tolist())\n",
    "\n"
   ]
  },
  {
   "cell_type": "code",
   "execution_count": 10,
   "metadata": {},
   "outputs": [
    {
     "name": "stdout",
     "output_type": "stream",
     "text": [
      "Q2.請試著在程式中印出以下三個 NdArray 的屬性？\n",
      "（屬性：ndim、shape、size、dtype、itemsize、length、type）\n",
      "type(a):  <class 'numpy.ndarray'>\n",
      "ndim(a):  1\n",
      "shape(a):  (6,)\n",
      "size(a):  6\n",
      "dtype(a):  int32\n",
      "itemsize(a):  4\n",
      "data(a):  <memory at 0x0000024509A864C8>\n",
      "type(b):  <class 'numpy.ndarray'>\n",
      "ndim(b):  2\n",
      "shape(b):  (3, 4)\n",
      "size(b):  12\n",
      "dtype(b):  int32\n",
      "itemsize(b):  4\n",
      "data(b):  <memory at 0x0000024509F20BA8>\n",
      "type(c):  <class 'numpy.ndarray'>\n",
      "ndim(c):  3\n",
      "shape(c):  (2, 3, 2)\n",
      "size(c):  12\n",
      "dtype(c):  int32\n",
      "itemsize(c):  4\n",
      "data(c):  <memory at 0x0000024509E64A98>\n"
     ]
    }
   ],
   "source": [
    "print('Q2.請試著在程式中印出以下三個 NdArray 的屬性？')\n",
    "print('（屬性：ndim、shape、size、dtype、itemsize、length、type）')\n",
    "a = np.random.randint(10, size=6) \n",
    "b = np.random.randint(10, size=(3,4)) \n",
    "c = np.random.randint(10, size=(2,3,2)) \n",
    "print('type(a): ',type(a))\n",
    "print('ndim(a): ',a.ndim)\n",
    "print('shape(a): ',a.shape)\n",
    "print('size(a): ',a.size)\n",
    "print('dtype(a): ',a.dtype)\n",
    "print('itemsize(a): ',a.itemsize)\n",
    "print('data(a): ',a.data)\n",
    "print('type(b): ',type(b))\n",
    "print('ndim(b): ',b.ndim)\n",
    "print('shape(b): ',b.shape)\n",
    "print('size(b): ',b.size)\n",
    "print('dtype(b): ',b.dtype)\n",
    "print('itemsize(b): ',b.itemsize)\n",
    "print('data(b): ',b.data)\n",
    "print('type(c): ',type(c))\n",
    "print('ndim(c): ',c.ndim)\n",
    "print('shape(c): ',c.shape)\n",
    "print('size(c): ',c.size)\n",
    "print('dtype(c): ',c.dtype)\n",
    "print('itemsize(c): ',c.itemsize)\n",
    "print('data(c): ',c.data)"
   ]
  },
  {
   "cell_type": "code",
   "execution_count": 11,
   "metadata": {},
   "outputs": [
    {
     "name": "stdout",
     "output_type": "stream",
     "text": [
      "Q3.如何利用 list(...) 實現 a.tolist() 的效果？試著用程式實作。\n",
      "list(a):  [[0, 1, 2, 3, 4], [5, 6, 7, 8, 9], [10, 11, 12, 13, 14]]\n",
      "tolist():  [[0, 1, 2, 3, 4], [5, 6, 7, 8, 9], [10, 11, 12, 13, 14]]\n"
     ]
    }
   ],
   "source": [
    "print('Q3.如何利用 list(...) 實現 a.tolist() 的效果？試著用程式實作。')\n",
    "import numpy as np\n",
    "a = np.arange(15).reshape(3, 5)\n",
    "print('list: ', [list(a[0]),list(a[1]),list(a[2])])\n",
    "print('tolist: ', a.tolist())"
   ]
  },
  {
   "cell_type": "code",
   "execution_count": 12,
   "metadata": {},
   "outputs": [
    {
     "name": "stdout",
     "output_type": "stream",
     "text": [
      "[0, 1, 2, 3, 4, 5, 6, 7, 8, 9, 10, 11, 12, 13, 14, 15, 16, 17, 18, 19, 20]\n",
      "[0, 2, 4, 6, 8, 10, 12, 14, 16, 18, 20]\n",
      "[0, 3, 6, 9, 12, 15, 18]\n"
     ]
    }
   ],
   "source": [
    "a = np.arange(21)\n",
    "print(list(a))\n",
    "print(list(a[0:21:2]))\n",
    "print(list(a[0:21:3]))"
   ]
  },
  {
   "cell_type": "code",
   "execution_count": null,
   "metadata": {},
   "outputs": [],
   "source": []
  }
 ],
 "metadata": {
  "kernelspec": {
   "display_name": "Python 3",
   "language": "python",
   "name": "python3"
  },
  "language_info": {
   "codemirror_mode": {
    "name": "ipython",
    "version": 3
   },
   "file_extension": ".py",
   "mimetype": "text/x-python",
   "name": "python",
   "nbconvert_exporter": "python",
   "pygments_lexer": "ipython3",
   "version": "3.7.6"
  }
 },
 "nbformat": 4,
 "nbformat_minor": 4
}
